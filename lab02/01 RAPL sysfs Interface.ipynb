{
 "cells": [
  {
   "cell_type": "markdown",
   "id": "9e6ca7cf",
   "metadata": {},
   "source": [
    "# RAPL sysfs Interface"
   ]
  },
  {
   "cell_type": "markdown",
   "id": "a93c1014-8343-4990-b914-1dcd52cbc3cf",
   "metadata": {},
   "source": [
    "**Note:** this notebook is meant to be executed on the supplied Docker image."
   ]
  },
  {
   "cell_type": "markdown",
   "id": "8e39f08b",
   "metadata": {},
   "source": [
    "**Note:** this and all other notebooks use the sysfs interface of the system where the Jupyter Notebook is running. It means that the output you see may be different on different systems, and some systems may not support Intel RAPL at all."
   ]
  },
  {
   "cell_type": "code",
   "execution_count": 1,
   "id": "377618aa",
   "metadata": {},
   "outputs": [],
   "source": [
    "import os\n",
    "from pathlib import Path"
   ]
  },
  {
   "cell_type": "markdown",
   "id": "6fc9ba96",
   "metadata": {},
   "source": [
    "First, we have to check whether RAPL sysfs interface is present which is signified by the existence of the directory `/sys/devices/virtual/powercap/intel-rapl`, which contains all files related to the RAPL sysfs interface."
   ]
  },
  {
   "cell_type": "code",
   "execution_count": 2,
   "id": "430fdd2f",
   "metadata": {},
   "outputs": [
    {
     "name": "stdout",
     "output_type": "stream",
     "text": [
      "RAPL sysfs supported\n"
     ]
    }
   ],
   "source": [
    "if os.path.isdir('/sys/devices/virtual/powercap/intel-rapl'):\n",
    "    print('RAPL sysfs supported')\n",
    "else:\n",
    "    print('RAPL sysfs unsupported')"
   ]
  },
  {
   "cell_type": "markdown",
   "id": "ead5d30a",
   "metadata": {},
   "source": [
    "In order to list all supported domains, we can list the direcotry `/sys/class/powercap`, which contains a flat structure of zones (every zone is represented by a directory in `/sys/class/powercap`), compared to the hierarchical structure from `/sys/devices/virtual/powercap` (directories representing zones contain directories representing subzones)."
   ]
  },
  {
   "cell_type": "code",
   "execution_count": 3,
   "id": "afab9506",
   "metadata": {},
   "outputs": [
    {
     "name": "stdout",
     "output_type": "stream",
     "text": [
      "Domain intel-rapl:1:\n",
      "  name: psys\n",
      "  controls enabled: 0\n",
      "\n",
      "Domain intel-rapl:0:0:\n",
      "  name: core\n",
      "  controls enabled: 0\n",
      "\n",
      "Domain intel-rapl-mmio:\n",
      "  name: unknown\n",
      "  controls enabled: 1\n",
      "\n",
      "Domain intel-rapl:\n",
      "  name: unknown\n",
      "  controls enabled: 1\n",
      "\n",
      "Domain intel-rapl:0:\n",
      "  name: package-0\n",
      "  controls enabled: 1\n",
      "\n",
      "Domain intel-rapl:0:1:\n",
      "  name: uncore\n",
      "  controls enabled: 0\n",
      "\n",
      "Domain intel-rapl-mmio:0:\n",
      "  name: package-0\n",
      "  controls enabled: 1\n",
      "\n"
     ]
    }
   ],
   "source": [
    "domains = os.listdir('/sys/class/powercap')\n",
    "\n",
    "for domain in domains:\n",
    "    print(f'Domain {domain}:')\n",
    "    try:\n",
    "        name = Path(f'/sys/class/powercap/{domain}/name').read_text().strip()\n",
    "        print(f'  name: {name}')\n",
    "    except FileNotFoundError:\n",
    "        print(f'  name: unknown')\n",
    "    try:\n",
    "        enabled = Path(f'/sys/class/powercap/{domain}/enabled').read_text().strip()\n",
    "        print(f'  controls enabled: {enabled}')\n",
    "    except FileNotFoundError:\n",
    "        print(f'  controls enabled: unknown')\n",
    "    print('')"
   ]
  },
  {
   "cell_type": "markdown",
   "id": "46d1927e",
   "metadata": {},
   "source": [
    "Let's list all supported CPUs. They are represented by domains in the form of `intel-rapl:<number>`, and their name is in the form of `package-<number>`."
   ]
  },
  {
   "cell_type": "code",
   "execution_count": 4,
   "id": "df511d08",
   "metadata": {},
   "outputs": [
    {
     "name": "stdout",
     "output_type": "stream",
     "text": [
      "CPU \"package-0\" (zone intel-rapl:0)\n",
      "\n",
      "There are 1 CPUs in total\n"
     ]
    }
   ],
   "source": [
    "files = os.listdir('/sys/devices/virtual/powercap/intel-rapl')\n",
    "first_cpu_domain = None\n",
    "cpu_count = 0\n",
    "\n",
    "for file in files:\n",
    "    if file.startswith('intel-rapl:'):\n",
    "        name = Path(f'/sys/devices/virtual/powercap/intel-rapl/{file}/name').read_text().strip()\n",
    "        if name.startswith('package-'):\n",
    "            if first_cpu_domain is None: first_cpu_domain = file\n",
    "            cpu_count += 1\n",
    "\n",
    "            print(f'CPU \"{name}\" (zone {file})')\n",
    "\n",
    "print('')\n",
    "print(f'There are {cpu_count} CPUs in total')"
   ]
  },
  {
   "cell_type": "markdown",
   "id": "08cee61a",
   "metadata": {},
   "source": [
    "Let's take the first CPU and list all subzones within this CPU."
   ]
  },
  {
   "cell_type": "code",
   "execution_count": 5,
   "id": "48b8d233",
   "metadata": {},
   "outputs": [
    {
     "name": "stdout",
     "output_type": "stream",
     "text": [
      "Subzone intel-rapl:0:0 with name \"core\"\n",
      "Subzone intel-rapl:0:1 with name \"uncore\"\n",
      "\n",
      "There are 2 subzones in total\n"
     ]
    }
   ],
   "source": [
    "files = os.listdir(f'/sys/devices/virtual/powercap/intel-rapl/{first_cpu_domain}')\n",
    "subzone_count = 0\n",
    "\n",
    "for file in files:\n",
    "    if file.startswith('intel-rapl:'):\n",
    "        subzone_count += 1\n",
    "        name = Path(f'/sys/devices/virtual/powercap/intel-rapl/{first_cpu_domain}/{file}/name').read_text().strip()\n",
    "        print(f'Subzone {file} with name \"{name}\"')\n",
    "\n",
    "print('')\n",
    "print(f'There are {subzone_count} subzones in total')"
   ]
  },
  {
   "cell_type": "markdown",
   "id": "745def63",
   "metadata": {},
   "source": [
    "The code below prints the file structures of `/sys/class/powercap` and `/sys/devices/virtual/powercap`."
   ]
  },
  {
   "cell_type": "code",
   "execution_count": 6,
   "id": "b6915c0f",
   "metadata": {},
   "outputs": [
    {
     "name": "stdout",
     "output_type": "stream",
     "text": [
      "/sys/class/powercap\n",
      "  intel-rapl:1 -> ../../devices/virtual/powercap/intel-rapl/intel-rapl:1\n",
      "  intel-rapl:0:0 -> ../../devices/virtual/powercap/intel-rapl/intel-rapl:0/intel-rapl:0:0\n",
      "  intel-rapl-mmio -> ../../devices/virtual/powercap/intel-rapl-mmio\n",
      "  intel-rapl -> ../../devices/virtual/powercap/intel-rapl\n",
      "  intel-rapl:0 -> ../../devices/virtual/powercap/intel-rapl/intel-rapl:0\n",
      "  intel-rapl:0:1 -> ../../devices/virtual/powercap/intel-rapl/intel-rapl:0/intel-rapl:0:1\n",
      "  intel-rapl-mmio:0 -> ../../devices/virtual/powercap/intel-rapl-mmio/intel-rapl-mmio:0\n",
      "\n",
      "/sys/devices/virtual/powercap\n",
      "  intel-rapl-mmio\n",
      "    uevent\n",
      "    enabled\n",
      "    power\n",
      "      runtime_active_time\n",
      "      runtime_status\n",
      "      autosuspend_delay_ms\n",
      "      runtime_suspended_time\n",
      "      control\n",
      "    subsystem -> ../../../../class/powercap\n",
      "    intel-rapl-mmio:0\n",
      "      uevent\n",
      "      energy_uj\n",
      "      enabled\n",
      "      constraint_1_max_power_uw\n",
      "      power\n",
      "        runtime_active_time\n",
      "        runtime_status\n",
      "        autosuspend_delay_ms\n",
      "        runtime_suspended_time\n",
      "        control\n",
      "      device -> ../../intel-rapl-mmio\n",
      "      constraint_1_time_window_us\n",
      "      constraint_1_power_limit_uw\n",
      "      constraint_0_time_window_us\n",
      "      subsystem -> ../../../../../class/powercap\n",
      "      constraint_1_name\n",
      "      constraint_0_power_limit_uw\n",
      "      constraint_0_name\n",
      "      name\n",
      "      constraint_0_max_power_uw\n",
      "      max_energy_range_uj\n",
      "  intel-rapl\n",
      "    uevent\n",
      "    intel-rapl:1\n",
      "      uevent\n",
      "      energy_uj\n",
      "      enabled\n",
      "      constraint_1_max_power_uw\n",
      "      power\n",
      "        runtime_active_time\n",
      "        runtime_status\n",
      "        autosuspend_delay_ms\n",
      "        runtime_suspended_time\n",
      "        control\n",
      "      device -> ../../intel-rapl\n",
      "      constraint_1_time_window_us\n",
      "      constraint_1_power_limit_uw\n",
      "      constraint_0_time_window_us\n",
      "      subsystem -> ../../../../../class/powercap\n",
      "      constraint_1_name\n",
      "      constraint_0_power_limit_uw\n",
      "      constraint_0_name\n",
      "      name\n",
      "      constraint_0_max_power_uw\n",
      "      max_energy_range_uj\n",
      "    enabled\n",
      "    power\n",
      "      runtime_active_time\n",
      "      runtime_status\n",
      "      autosuspend_delay_ms\n",
      "      runtime_suspended_time\n",
      "      control\n",
      "    intel-rapl:0\n",
      "      uevent\n",
      "      energy_uj\n",
      "      intel-rapl:0:0\n",
      "        uevent\n",
      "        energy_uj\n",
      "        enabled\n",
      "        power\n",
      "          runtime_active_time\n",
      "          runtime_status\n",
      "          autosuspend_delay_ms\n",
      "          runtime_suspended_time\n",
      "          control\n",
      "        device -> ../../intel-rapl:0\n",
      "        constraint_0_time_window_us\n",
      "        subsystem -> ../../../../../../class/powercap\n",
      "        constraint_0_power_limit_uw\n",
      "        constraint_0_name\n",
      "        name\n",
      "        constraint_0_max_power_uw\n",
      "        max_energy_range_uj\n",
      "      enabled\n",
      "      constraint_1_max_power_uw\n",
      "      constraint_2_time_window_us\n",
      "      power\n",
      "        runtime_active_time\n",
      "        runtime_status\n",
      "        autosuspend_delay_ms\n",
      "        runtime_suspended_time\n",
      "        control\n",
      "      device -> ../../intel-rapl\n",
      "      constraint_2_power_limit_uw\n",
      "      constraint_1_time_window_us\n",
      "      constraint_2_max_power_uw\n",
      "      constraint_2_name\n",
      "      constraint_1_power_limit_uw\n",
      "      intel-rapl:0:1\n",
      "        uevent\n",
      "        energy_uj\n",
      "        enabled\n",
      "        power\n",
      "          runtime_active_time\n",
      "          runtime_status\n",
      "          autosuspend_delay_ms\n",
      "          runtime_suspended_time\n",
      "          control\n",
      "        device -> ../../intel-rapl:0\n",
      "        constraint_0_time_window_us\n",
      "        subsystem -> ../../../../../../class/powercap\n",
      "        constraint_0_power_limit_uw\n",
      "        constraint_0_name\n",
      "        name\n",
      "        constraint_0_max_power_uw\n",
      "        max_energy_range_uj\n",
      "      constraint_0_time_window_us\n",
      "      subsystem -> ../../../../../class/powercap\n",
      "      constraint_1_name\n",
      "      constraint_0_power_limit_uw\n",
      "      constraint_0_name\n",
      "      name\n",
      "      constraint_0_max_power_uw\n",
      "      max_energy_range_uj\n",
      "    subsystem -> ../../../../class/powercap\n"
     ]
    }
   ],
   "source": [
    "def print_tree(directory, indent=''):\n",
    "    files = os.listdir(directory)\n",
    "    for file in files:\n",
    "        path = f'{directory}/{file}'\n",
    "        if os.path.islink(path):\n",
    "            print(f'{indent}{file} -> {os.readlink(path)}')\n",
    "            continue\n",
    "        print(f'{indent}{file}')\n",
    "        if os.path.isdir(path):\n",
    "            print_tree(path, f'{indent}  ')\n",
    "\n",
    "print('/sys/class/powercap')\n",
    "print_tree('/sys/class/powercap', '  ')\n",
    "print('')\n",
    "print('/sys/devices/virtual/powercap')\n",
    "print_tree('/sys/devices/virtual/powercap', '  ')"
   ]
  },
  {
   "cell_type": "code",
   "execution_count": null,
   "id": "098fb8b1-b3a1-46b6-9747-406ce4fc558d",
   "metadata": {},
   "outputs": [],
   "source": []
  }
 ],
 "metadata": {
  "kernelspec": {
   "display_name": "Python 3 (ipykernel)",
   "language": "python",
   "name": "python3"
  },
  "language_info": {
   "codemirror_mode": {
    "name": "ipython",
    "version": 3
   },
   "file_extension": ".py",
   "mimetype": "text/x-python",
   "name": "python",
   "nbconvert_exporter": "python",
   "pygments_lexer": "ipython3",
   "version": "3.9.18"
  }
 },
 "nbformat": 4,
 "nbformat_minor": 5
}
