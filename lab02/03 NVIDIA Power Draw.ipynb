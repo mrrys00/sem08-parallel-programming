{
 "cells": [
  {
   "cell_type": "markdown",
   "id": "4c32d62d",
   "metadata": {},
   "source": [
    "# NVIDIA Power Draw"
   ]
  },
  {
   "cell_type": "markdown",
   "id": "3cca1493-0a24-48c7-891e-0e26bb4cda25",
   "metadata": {},
   "source": [
    "**Note:** this notebook is meant to be executed on the supplied Docker image."
   ]
  },
  {
   "cell_type": "code",
   "execution_count": null,
   "id": "ed70ec48",
   "metadata": {},
   "outputs": [],
   "source": [
    "import time\n",
    "import subprocess"
   ]
  },
  {
   "cell_type": "markdown",
   "id": "72a52501",
   "metadata": {},
   "source": [
    "In order to read current power draw of an NVIDIA graphics card, `nvidia-smi` is used. The command `nvidia-smi --query-gpu=power.draw --format=csv` returns the current power draw in CSV format. The following function (`power_draw_w`) calls `nvidia-smi` and reads the numerical value of current power draw."
   ]
  },
  {
   "cell_type": "code",
   "execution_count": null,
   "id": "f55dd998",
   "metadata": {
    "scrolled": true
   },
   "outputs": [],
   "source": [
    "def power_draw_w():\n",
    "    proc = subprocess.run(\n",
    "        [\"nvidia-smi\", \"--query-gpu=power.draw\", \"--format=csv\"],\n",
    "        capture_output=True)\n",
    "    stdout = proc.stdout.decode('utf-8')\n",
    "    return float(stdout.split('\\n')[1].split(' ')[0])\n",
    "\n",
    "print(f'Current power draw: {power_draw_w()} W')"
   ]
  },
  {
   "cell_type": "markdown",
   "id": "39bc5746",
   "metadata": {},
   "source": [
    "Measuring energy consumption on NVIDIA graphics cards involves integrating the power draw over time. The following function (`measure_power`) runs a program in background and calculates energy consumption during its execution. For each time interval (the length of which is set using the parameter `resolution`), consumed energy is calculated as `power_draw * time`."
   ]
  },
  {
   "cell_type": "code",
   "execution_count": null,
   "id": "693da6bb",
   "metadata": {},
   "outputs": [],
   "source": [
    "def measure_power(args, resolution=0.5, log=True):\n",
    "    NS_IN_S = 1_000_000_000\n",
    "\n",
    "    energy_j = 0\n",
    "    proc = subprocess.Popen(args)\n",
    "    start_time_ns = time.time_ns()\n",
    "    time_ns = start_time_ns\n",
    "    \n",
    "    while True:\n",
    "        timeout = False\n",
    "        try:\n",
    "            proc.wait(timeout=resolution)\n",
    "        except subprocess.TimeoutExpired:\n",
    "            timeout = True\n",
    "        new_time_ns = time.time_ns()\n",
    "        draw_w = power_draw_w()\n",
    "        if log:\n",
    "            print(f'Draw at {(new_time_ns - start_time_ns) / NS_IN_S} s: {draw_w} W')\n",
    "        \n",
    "        delay_ns = new_time_ns - time_ns\n",
    "        energy_j += delay_ns * draw_w / NS_IN_S\n",
    "        time_ns = new_time_ns\n",
    "        \n",
    "        if not timeout:\n",
    "            break\n",
    "    \n",
    "    total_time_s = (time_ns - start_time_ns) / NS_IN_S\n",
    "    if log:\n",
    "        print(f'Total energy consumed: {energy_j} J')\n",
    "        print(f'Average draw: {energy_j / total_time_s} W')"
   ]
  },
  {
   "cell_type": "markdown",
   "id": "43cd3402",
   "metadata": {},
   "source": [
    "By executing this function with command `sleep 10` we can measure idle energy consumption over the interval of 10 seconds."
   ]
  },
  {
   "cell_type": "code",
   "execution_count": null,
   "id": "1bfd4fca",
   "metadata": {},
   "outputs": [],
   "source": [
    "measure_power(['sleep', '10'], resolution=0.5)"
   ]
  },
  {
   "cell_type": "markdown",
   "id": "12eb073a",
   "metadata": {},
   "source": [
    "You can change the command to run any other application and measure its energy consumption of the GPU."
   ]
  },
  {
   "cell_type": "markdown",
   "id": "465a077f-b885-4caa-a9ff-68e740dde6b4",
   "metadata": {},
   "source": [
    "The following code will measure energy consumption of a script named `resnet152predict`, which uses the ResNet-152 network to predict the contents of images. A sample set of images is provided inside the directory `/images/`."
   ]
  },
  {
   "cell_type": "code",
   "execution_count": null,
   "id": "f936ff8d-4f63-472b-bf59-774c50d87679",
   "metadata": {},
   "outputs": [],
   "source": [
    "# first, make sure that the model is downloaded before measuring energy\n",
    "subprocess.run(['resnet152predict', '/images/'],\n",
    "    stdout = subprocess.DEVNULL,\n",
    "    stderr = subprocess.DEVNULL)\n",
    "\n",
    "measure_power(['resnet152predict', '/images/'], resolution=0.5)"
   ]
  }
 ],
 "metadata": {
  "kernelspec": {
   "display_name": "Python 3 (ipykernel)",
   "language": "python",
   "name": "python3"
  },
  "language_info": {
   "codemirror_mode": {
    "name": "ipython",
    "version": 3
   },
   "file_extension": ".py",
   "mimetype": "text/x-python",
   "name": "python",
   "nbconvert_exporter": "python",
   "pygments_lexer": "ipython3",
   "version": "3.9.18"
  }
 },
 "nbformat": 4,
 "nbformat_minor": 5
}
