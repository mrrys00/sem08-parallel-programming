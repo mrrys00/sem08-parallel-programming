{
 "cells": [
  {
   "cell_type": "markdown",
   "id": "ad568bc4",
   "metadata": {},
   "source": [
    "# RAPL Energy Consumption"
   ]
  },
  {
   "cell_type": "markdown",
   "id": "45dec6ce-1c57-47cc-8b80-009d09b553d4",
   "metadata": {},
   "source": [
    "**Note:** this notebook is meant to be executed on the supplied Docker image."
   ]
  },
  {
   "cell_type": "code",
   "execution_count": 1,
   "id": "856bf6ac",
   "metadata": {},
   "outputs": [],
   "source": [
    "import os\n",
    "from pathlib import Path\n",
    "import time"
   ]
  },
  {
   "cell_type": "markdown",
   "id": "114f239a",
   "metadata": {},
   "source": [
    "This notebook provides excercises related to basic energy consumption monitoring using RAPL. We will read the idle energy consumption of the machine using two interfaces: the RAPL sysfs interface and perf_event interface,"
   ]
  },
  {
   "cell_type": "markdown",
   "id": "db2c9813",
   "metadata": {},
   "source": [
    "## RAPL sysfs Interface"
   ]
  },
  {
   "cell_type": "markdown",
   "id": "137a7f96",
   "metadata": {},
   "source": [
    "First of all, it's important to find the zone of your CPU in sysfs. Use the knowledge from the previous modules to find the path of thiz zone and complete the code below."
   ]
  },
  {
   "cell_type": "code",
   "execution_count": 5,
   "id": "48ebbe16",
   "metadata": {},
   "outputs": [],
   "source": [
    "cpu_zone = '/sys/devices/virtual/powercap/intel-rapl/intel-rapl:0/'"
   ]
  },
  {
   "cell_type": "markdown",
   "id": "99f86b66",
   "metadata": {},
   "source": [
    "Let's verify whether this zone seems like the zone of your CPU."
   ]
  },
  {
   "cell_type": "code",
   "execution_count": 3,
   "id": "bfc2bd9e",
   "metadata": {},
   "outputs": [
    {
     "name": "stdout",
     "output_type": "stream",
     "text": [
      "✓ Zone exists\n",
      "✓ Its name starts with 'package-'\n",
      "✓ File 'energy_uj' exists\n"
     ]
    }
   ],
   "source": [
    "if os.path.isdir(cpu_zone):\n",
    "    print('✓ Zone exists')\n",
    "else:\n",
    "    print('✗ Zone does not exist!')\n",
    "\n",
    "name = Path(f'{cpu_zone}/name').read_text().strip()\n",
    "\n",
    "if name.startswith('package-'):\n",
    "    print('✓ Its name starts with \\'package-\\'')\n",
    "else:\n",
    "    print('✗ Its zone does not start with \\'package-\\'!')\n",
    "\n",
    "if os.path.isfile(f'{cpu_zone}/energy_uj'):\n",
    "    print('✓ File \\'energy_uj\\' exists')\n",
    "else:\n",
    "    print('✗ File \\'energy_uj\\' does not exist!')"
   ]
  },
  {
   "cell_type": "markdown",
   "id": "6148f025",
   "metadata": {},
   "source": [
    "The energy counter which reports energy consumed by the zone in micro joules is available as a file named `energy_uj`. This file returns the energy consumed from ar arbitrary, but fixed point in time. By calculating the difference between these values at different points in time, we can obtain the energy consumed during the measurrement period."
   ]
  },
  {
   "cell_type": "markdown",
   "id": "34a02f3b",
   "metadata": {},
   "source": [
    "Let's start with rading the value of `energy_uj`. Complete the following code."
   ]
  },
  {
   "cell_type": "code",
   "execution_count": 10,
   "id": "4064c1e9",
   "metadata": {},
   "outputs": [
    {
     "name": "stdout",
     "output_type": "stream",
     "text": [
      "Current energy counter value: 53460156232\n"
     ]
    }
   ],
   "source": [
    "def energy_uj():\n",
    "    fp = open(cpu_zone+'energy_uj', 'r')\n",
    "    return int(fp.read())\n",
    "\n",
    "print(f'Current energy counter value: {energy_uj()}')"
   ]
  },
  {
   "cell_type": "markdown",
   "id": "f40ddc5b",
   "metadata": {},
   "source": [
    "Next, we can use the energy counter value read at two different times to calculate energy consumption during the measurement period. Complete the following code. Remembebr that the counter may be reset to zero!"
   ]
  },
  {
   "cell_type": "code",
   "execution_count": 17,
   "id": "e605aa78",
   "metadata": {},
   "outputs": [],
   "source": [
    "def energy_consumption(energy_uj_start, energy_uj_end):\n",
    "    fp = open(cpu_zone+'max_energy_range_uj', 'r')\n",
    "    max_energy_range_uj = int(fp.read())\n",
    "\n",
    "    if energy_uj_end < energy_uj_start:\n",
    "        return max_energy_range_uj-energy_uj_start+energy_uj_end\n",
    "    return energy_uj_end-energy_uj_start"
   ]
  },
  {
   "cell_type": "markdown",
   "id": "6c356193",
   "metadata": {},
   "source": [
    "Let's verify whether the function defined above works. Check the output of the script below."
   ]
  },
  {
   "cell_type": "code",
   "execution_count": 18,
   "id": "00297a5c",
   "metadata": {},
   "outputs": [
    {
     "name": "stdout",
     "output_type": "stream",
     "text": [
      "✓ Pass\n",
      "✓ Pass\n",
      "✓ Pass\n"
     ]
    }
   ],
   "source": [
    "energy = energy_consumption(10000, 10000)\n",
    "if energy == 0:\n",
    "    print('✓ Pass')\n",
    "else:\n",
    "    print(f'✗ Fail: {energy}')\n",
    "\n",
    "energy = energy_consumption(0, 10000)\n",
    "if energy == 10000:\n",
    "    print('✓ Pass')\n",
    "else:\n",
    "    print(f'✗ Fail: {energy}')\n",
    "\n",
    "counter_max = int(Path(f'{cpu_zone}/max_energy_range_uj').read_text().strip())\n",
    "energy = energy_consumption(counter_max - 1000, 1000)\n",
    "if energy == 2000:\n",
    "    print('✓ Pass')\n",
    "else:\n",
    "    print(f'✗ Fail: {energy}')"
   ]
  },
  {
   "cell_type": "markdown",
   "id": "88fa5a99",
   "metadata": {},
   "source": [
    "Let's try measuring idle CPU energy consumption using the functions `energy_uj()` and `energy_consumption()`. Complete the following code to get the energy consumed during the 5 second measurement period in joules."
   ]
  },
  {
   "cell_type": "code",
   "execution_count": 21,
   "id": "a46364ae",
   "metadata": {},
   "outputs": [
    {
     "name": "stdout",
     "output_type": "stream",
     "text": [
      "Energy consumed: 9.3820804 J\n"
     ]
    }
   ],
   "source": [
    "measure_time = 5  # seconds\n",
    "\n",
    "start_energy_uj = energy_uj()\n",
    "time.sleep(measure_time)\n",
    "end_energy_uj = energy_uj()\n",
    "\n",
    "energy_consumed_uj = energy_consumption(start_energy_uj, end_energy_uj)\n",
    "energy_consumed_j = energy_consumed_uj / 10**6 / measure_time\n",
    "\n",
    "print(f'Energy consumed: {energy_consumed_j} J')"
   ]
  },
  {
   "cell_type": "markdown",
   "id": "25c2a3a2",
   "metadata": {},
   "source": [
    "The energy consumed should be roughly between 10 and 1000 joules depending on the power of your equipment."
   ]
  },
  {
   "cell_type": "code",
   "execution_count": null,
   "id": "e731a4f4-149d-4b53-aa2b-6925adc1f0ae",
   "metadata": {},
   "outputs": [],
   "source": []
  }
 ],
 "metadata": {
  "kernelspec": {
   "display_name": "Python 3 (ipykernel)",
   "language": "python",
   "name": "python3"
  },
  "language_info": {
   "codemirror_mode": {
    "name": "ipython",
    "version": 3
   },
   "file_extension": ".py",
   "mimetype": "text/x-python",
   "name": "python",
   "nbconvert_exporter": "python",
   "pygments_lexer": "ipython3",
   "version": "3.9.18"
  }
 },
 "nbformat": 4,
 "nbformat_minor": 5
}
