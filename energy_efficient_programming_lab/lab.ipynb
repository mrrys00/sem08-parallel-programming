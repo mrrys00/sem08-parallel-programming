{
 "cells": [
  {
   "cell_type": "markdown",
   "metadata": {},
   "source": [
    "# Energy efficient parallel programming\n",
    "\n",
    "**Note:** this notebook is meant to be executed on the supplied Docker image.\n",
    "\n",
    "TO DO - EN\n",
    "\n",
    "Celem zajęć jest zaznajomienie się z technikami programowania wydajnego energetycznie oraz porównanie czasu wykonania z ilością zużytej energii."
   ]
  },
  {
   "cell_type": "code",
   "execution_count": 1,
   "metadata": {},
   "outputs": [],
   "source": [
    "import os\n",
    "from pathlib import Path\n",
    "import time\n",
    "\n",
    "from multiprocessing import Pool\n",
    "from collections import defaultdict, deque\n",
    "import random\n"
   ]
  },
  {
   "cell_type": "markdown",
   "metadata": {},
   "source": [
    "## RAPL sysfs Interface\n"
   ]
  },
  {
   "cell_type": "markdown",
   "metadata": {},
   "source": [
    "First of all, it's important to find the zone of your CPU in sysfs. Use the knowledge from the previous modules to find the path of thiz zone and complete the code below.\n",
    "\n",
    "Please verify your path to the RAPL module in your PC.\n"
   ]
  },
  {
   "cell_type": "code",
   "execution_count": 2,
   "metadata": {},
   "outputs": [],
   "source": [
    "cpu_zone = '/sys/devices/virtual/powercap/intel-rapl/intel-rapl:0/'"
   ]
  },
  {
   "cell_type": "markdown",
   "metadata": {},
   "source": [
    "Let's verify whether this zone seems like the zone of your CPU."
   ]
  },
  {
   "cell_type": "code",
   "execution_count": 3,
   "metadata": {},
   "outputs": [
    {
     "name": "stdout",
     "output_type": "stream",
     "text": [
      "✓ Zone exists\n",
      "✓ Its name starts with 'package-'\n",
      "✓ File 'energy_uj' exists\n"
     ]
    }
   ],
   "source": [
    "if os.path.isdir(cpu_zone):\n",
    "    print('✓ Zone exists')\n",
    "else:\n",
    "    print('✗ Zone does not exist!')\n",
    "\n",
    "name = Path(f'{cpu_zone}/name').read_text().strip()\n",
    "\n",
    "if name.startswith('package-'):\n",
    "    print('✓ Its name starts with \\'package-\\'')\n",
    "else:\n",
    "    print('✗ Its zone does not start with \\'package-\\'!')\n",
    "\n",
    "if os.path.isfile(f'{cpu_zone}/energy_uj'):\n",
    "    print('✓ File \\'energy_uj\\' exists')\n",
    "else:\n",
    "    print('✗ File \\'energy_uj\\' does not exist!')"
   ]
  },
  {
   "cell_type": "markdown",
   "metadata": {},
   "source": [
    "The energy counter which reports energy consumed by the zone in micro joules is available as a file named `energy_uj`. This file returns the energy consumed from ar arbitrary, but fixed point in time. By calculating the difference between these values at different points in time, we can obtain the energy consumed during the measurrement period.\n"
   ]
  },
  {
   "cell_type": "markdown",
   "metadata": {},
   "source": [
    "Let's start with rading the value of `energy_uj`. Complete the following code."
   ]
  },
  {
   "cell_type": "code",
   "execution_count": 4,
   "metadata": {},
   "outputs": [
    {
     "name": "stdout",
     "output_type": "stream",
     "text": [
      "Current energy counter value: 43587240406\n"
     ]
    }
   ],
   "source": [
    "def energy_uj():\n",
    "    # TO DO - remove implementation\n",
    "    fp = open(cpu_zone+'energy_uj', 'r')\n",
    "    return int(fp.read())\n",
    "\n",
    "print(f'Current energy counter value: {energy_uj()}')"
   ]
  },
  {
   "cell_type": "markdown",
   "metadata": {},
   "source": [
    "Next, we can use the energy counter value read at two different times to calculate energy consumption during the measurement period. Complete the following code. Remembebr that the counter may be reset to zero!\n"
   ]
  },
  {
   "cell_type": "code",
   "execution_count": 5,
   "metadata": {},
   "outputs": [],
   "source": [
    "def energy_consumption(energy_uj_start, energy_uj_end):\n",
    "    # TO DO - remove implementation\n",
    "    fp = open(cpu_zone+'max_energy_range_uj', 'r')\n",
    "    max_energy_range_uj = int(fp.read())\n",
    "\n",
    "    if energy_uj_end < energy_uj_start:\n",
    "        return max_energy_range_uj-energy_uj_start+energy_uj_end\n",
    "    return energy_uj_end-energy_uj_start"
   ]
  },
  {
   "cell_type": "markdown",
   "metadata": {},
   "source": [
    "Let's verify whether the function defined above works. Check the output of the script below."
   ]
  },
  {
   "cell_type": "code",
   "execution_count": 6,
   "metadata": {},
   "outputs": [
    {
     "name": "stdout",
     "output_type": "stream",
     "text": [
      "✓ Pass\n",
      "✓ Pass\n",
      "✓ Pass\n"
     ]
    }
   ],
   "source": [
    "energy = energy_consumption(10000, 10000)\n",
    "if energy == 0:\n",
    "    print('✓ Pass')\n",
    "else:\n",
    "    print(f'✗ Fail: {energy}')\n",
    "\n",
    "energy = energy_consumption(0, 10000)\n",
    "if energy == 10000:\n",
    "    print('✓ Pass')\n",
    "else:\n",
    "    print(f'✗ Fail: {energy}')\n",
    "\n",
    "counter_max = int(Path(f'{cpu_zone}/max_energy_range_uj').read_text().strip())\n",
    "energy = energy_consumption(counter_max - 1000, 1000)\n",
    "if energy == 2000:\n",
    "    print('✓ Pass')\n",
    "else:\n",
    "    print(f'✗ Fail: {energy}')"
   ]
  },
  {
   "cell_type": "markdown",
   "metadata": {},
   "source": [
    "Let's try measuring idle CPU energy consumption using the functions `energy_uj()` and `energy_consumption()`. Complete the following code to get the energy consumed during the 5 second measurement period in joules."
   ]
  },
  {
   "cell_type": "code",
   "execution_count": 7,
   "metadata": {},
   "outputs": [
    {
     "name": "stdout",
     "output_type": "stream",
     "text": [
      "Energy consumed: 37.440352000000004 J\n"
     ]
    }
   ],
   "source": [
    "measure_time = 5  # seconds\n",
    "\n",
    "start_energy_uj = energy_uj()\n",
    "time.sleep(measure_time)\n",
    "end_energy_uj = energy_uj()\n",
    "\n",
    "energy_consumed_uj = energy_consumption(start_energy_uj, end_energy_uj)\n",
    "energy_consumed_j = energy_consumed_uj / 10**6 / measure_time\n",
    "\n",
    "print(f'Energy consumed: {energy_consumed_j} J')"
   ]
  },
  {
   "cell_type": "markdown",
   "metadata": {},
   "source": [
    "The energy consumed should be roughly between 10 and 1000 joules depending on the power of your equipment.\n",
    "\n",
    "**Note**: If you use the ultrabook with low energy consumprion CPU like [Intel® Core™ i7-1165G7](https://ark.intel.com/content/www/us/en/ark/products/208921/intel-core-i7-1165g7-processor-12m-cache-up-to-4-70-ghz-with-ipu.html) the consumed energy may be below 10 joules"
   ]
  },
  {
   "cell_type": "markdown",
   "metadata": {},
   "source": [
    "Verify the usage after power capping"
   ]
  },
  {
   "cell_type": "code",
   "execution_count": 10,
   "metadata": {},
   "outputs": [],
   "source": [
    "class Graph:\n",
    "    def __init__(self):\n",
    "        self.graph = defaultdict(list)\n",
    "\n",
    "    def add_edge(self, u, v):\n",
    "        self.graph[u].append(v)\n",
    "\n",
    "    def bfs(self, start):\n",
    "        visited = set()\n",
    "        queue = deque([start])\n",
    "        result = []\n",
    "\n",
    "        while queue:\n",
    "            node = queue.popleft()\n",
    "            if node not in visited:\n",
    "                visited.add(node)\n",
    "                result.append(node)\n",
    "                queue.extend(self.graph[node])\n",
    "\n",
    "        return result\n",
    "\n",
    "    def dfs(self, start):\n",
    "        visited = set()\n",
    "        stack = [start]\n",
    "        result = []\n",
    "\n",
    "        while stack:\n",
    "            node = stack.pop()\n",
    "            if node not in visited:\n",
    "                visited.add(node)\n",
    "                result.append(node)\n",
    "                stack.extend(neighbor for neighbor in reversed(self.graph[node]) if neighbor not in visited)\n",
    "\n",
    "        return result\n",
    "\n",
    "def generate_random_graph(num_nodes, num_edges) -> Graph:\n",
    "    graph = Graph()\n",
    "    for _ in range(num_edges):\n",
    "        u = random.randint(1, num_nodes)\n",
    "        v = random.randint(1, num_nodes)\n",
    "        graph.add_edge(u, v)\n",
    "    return graph\n",
    "\n",
    "def bfs_wrapper(graph: Graph, start_node):\n",
    "    return graph.bfs(start_node)\n",
    "\n",
    "def dfs_wrapper(graph: Graph, start_node):\n",
    "    return graph.dfs(start_node)\n"
   ]
  },
  {
   "cell_type": "code",
   "execution_count": 11,
   "metadata": {},
   "outputs": [
    {
     "name": "stdout",
     "output_type": "stream",
     "text": [
      "BFS Result: [1, 8, 9, 2, 4, 3, 5, 10, 7]\n",
      "DFS Result: [1, 8, 9, 4, 2, 3, 10, 7, 5]\n"
     ]
    }
   ],
   "source": [
    "# Example usage:\n",
    "num_nodes = 10\n",
    "num_edges = 20\n",
    "graph = generate_random_graph(num_nodes, num_edges)\n",
    "\n",
    "# Choose the number of processes\n",
    "num_processes = 2\n",
    "\n",
    "# Create a pool of processes\n",
    "pool = Pool(processes=num_processes)\n",
    "\n",
    "# Run BFS and DFS in parallel\n",
    "start_node = 1\n",
    "bfs_result = pool.apply_async(bfs_wrapper, (graph, start_node,))\n",
    "dfs_result = pool.apply_async(dfs_wrapper, (graph, start_node,))\n",
    "\n",
    "# Get the results\n",
    "bfs_result = bfs_result.get()\n",
    "dfs_result = dfs_result.get()\n",
    "\n",
    "print(\"BFS Result:\", bfs_result)\n",
    "print(\"DFS Result:\", dfs_result)\n",
    "\n",
    "# Close the pool\n",
    "pool.close()\n",
    "pool.join()"
   ]
  }
 ],
 "metadata": {
  "kernelspec": {
   "display_name": "Python 3 (ipykernel)",
   "language": "python",
   "name": "python3"
  },
  "language_info": {
   "codemirror_mode": {
    "name": "ipython",
    "version": 3
   },
   "file_extension": ".py",
   "mimetype": "text/x-python",
   "name": "python",
   "nbconvert_exporter": "python",
   "pygments_lexer": "ipython3",
   "version": "3.9.18"
  }
 },
 "nbformat": 4,
 "nbformat_minor": 2
}
