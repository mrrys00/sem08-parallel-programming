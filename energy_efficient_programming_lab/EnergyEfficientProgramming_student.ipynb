{
 "cells": [
  {
   "cell_type": "markdown",
   "metadata": {},
   "source": [
    "# Energy efficient parallel programming\n",
    "\n",
    "Urszula Kicinger, Szymon Ryś (based on exercises from Kamil Jarosz)\n",
    "\n",
    "**Note:** this notebook is meant to be executed on the supplied Docker image.\n",
    "\n",
    "**Aim:** The aim of this notebook is to present energy efficient programming methods and relation between execution time and used energy while execution graph algorithms."
   ]
  },
  {
   "cell_type": "code",
   "execution_count": null,
   "metadata": {},
   "outputs": [],
   "source": [
    "# You may need to additionally install matplotlib\n",
    "\n",
    "# %pip install matplotlib"
   ]
  },
  {
   "cell_type": "code",
   "execution_count": null,
   "metadata": {},
   "outputs": [],
   "source": [
    "import os\n",
    "from pathlib import Path\n",
    "import time\n",
    "\n",
    "import matplotlib.pyplot as plt"
   ]
  },
  {
   "cell_type": "markdown",
   "metadata": {},
   "source": [
    "## RAPL sysfs Interface\n"
   ]
  },
  {
   "cell_type": "markdown",
   "metadata": {},
   "source": [
    "### CPU zone in sysfs"
   ]
  },
  {
   "cell_type": "markdown",
   "metadata": {},
   "source": [
    "First of all, it's important to find the zone of your CPU in sysfs. Use the knowledge from the previous modules to find the path of thiz zone and complete the code below.\n",
    "\n",
    "Please verify your path to the RAPL module in your PC.\n"
   ]
  },
  {
   "cell_type": "code",
   "execution_count": null,
   "metadata": {},
   "outputs": [],
   "source": [
    "cpu_zone = '/sys/...'"
   ]
  },
  {
   "cell_type": "markdown",
   "metadata": {},
   "source": [
    "Let's verify whether this zone seems like the zone of your CPU."
   ]
  },
  {
   "cell_type": "code",
   "execution_count": null,
   "metadata": {},
   "outputs": [],
   "source": [
    "if os.path.isdir(cpu_zone):\n",
    "    print('✓ Zone exists')\n",
    "else:\n",
    "    print('✗ Zone does not exist!')\n",
    "\n",
    "name = Path(f'{cpu_zone}/name').read_text().strip()\n",
    "\n",
    "if name.startswith('package-'):\n",
    "    print('✓ Its name starts with \\'package-\\'')\n",
    "else:\n",
    "    print('✗ Its zone does not start with \\'package-\\'!')\n",
    "\n",
    "if os.path.isfile(f'{cpu_zone}/energy_uj'):\n",
    "    print('✓ File \\'energy_uj\\' exists')\n",
    "else:\n",
    "    print('✗ File \\'energy_uj\\' does not exist!')"
   ]
  },
  {
   "cell_type": "markdown",
   "metadata": {},
   "source": [
    "### Energy consumption measurements"
   ]
  },
  {
   "cell_type": "markdown",
   "metadata": {},
   "source": [
    "The energy counter which reports energy consumed by the zone in micro joules is available as a file named `energy_uj`. This file returns the energy consumed from ar arbitrary, but fixed point in time. By calculating the difference between these values at different points in time, we can obtain the energy consumed during the measurement period.\n"
   ]
  },
  {
   "cell_type": "markdown",
   "metadata": {},
   "source": [
    "Let's start with rading the value of `energy_uj`. Complete the following code."
   ]
  },
  {
   "cell_type": "code",
   "execution_count": null,
   "metadata": {},
   "outputs": [],
   "source": [
    "def energy_uj():\n",
    "    raise Exception(\"Unimplemented 'energy_uj'\")\n",
    "    # return \n",
    "\n",
    "print(f'Current energy counter value: {energy_uj()}')"
   ]
  },
  {
   "cell_type": "markdown",
   "metadata": {},
   "source": [
    "Next, we can use the energy counter value read at two different times to calculate energy consumption during the measurement period. Complete the following code. Remembebr that the counter may be reset to zero!\n"
   ]
  },
  {
   "cell_type": "code",
   "execution_count": null,
   "metadata": {},
   "outputs": [],
   "source": [
    "def energy_consumption(energy_uj_start, energy_uj_end):\n",
    "    raise Exception(\"Unimplemented 'energy_consumption'\")\n",
    "    # return "
   ]
  },
  {
   "cell_type": "markdown",
   "metadata": {},
   "source": [
    "Let's verify whether the function defined above works. Check the output of the script below."
   ]
  },
  {
   "cell_type": "code",
   "execution_count": null,
   "metadata": {},
   "outputs": [],
   "source": [
    "energy = energy_consumption(10000, 10000)\n",
    "if energy == 0:\n",
    "    print('✓ Pass')\n",
    "else:\n",
    "    print(f'✗ Fail: {energy}')\n",
    "\n",
    "energy = energy_consumption(0, 10000)\n",
    "if energy == 10000:\n",
    "    print('✓ Pass')\n",
    "else:\n",
    "    print(f'✗ Fail: {energy}')\n",
    "\n",
    "counter_max = int(Path(f'{cpu_zone}/max_energy_range_uj').read_text().strip())\n",
    "energy = energy_consumption(counter_max - 1000, 1000)\n",
    "if energy == 2000:\n",
    "    print('✓ Pass')\n",
    "else:\n",
    "    print(f'✗ Fail: {energy}')"
   ]
  },
  {
   "cell_type": "markdown",
   "metadata": {},
   "source": [
    "### Energy consumption measurement - example"
   ]
  },
  {
   "cell_type": "markdown",
   "metadata": {},
   "source": [
    "Let's try measuring idle CPU energy consumption using the functions `energy_uj()` and `energy_consumption()`. Complete the following code to get the energy consumed during the 5 second measurement period in joules."
   ]
  },
  {
   "cell_type": "code",
   "execution_count": null,
   "metadata": {},
   "outputs": [],
   "source": [
    "measure_time = 5  # seconds\n",
    "\n",
    "# time.sleep(...)\n",
    "\n",
    "print(f'Energy consumed: {energy_consumed_j} J')"
   ]
  },
  {
   "cell_type": "markdown",
   "metadata": {},
   "source": [
    "The energy consumed should be roughly between 10 and 1000 joules depending on the power of your equipment.\n",
    "\n",
    "**Note**: If you use the ultrabook with low energy consumprion CPU like [Intel® Core™ i7-1165G7](https://ark.intel.com/content/www/us/en/ark/products/208921/intel-core-i7-1165g7-processor-12m-cache-up-to-4-70-ghz-with-ipu.html) the consumed energy may be below 10 joules"
   ]
  },
  {
   "cell_type": "markdown",
   "metadata": {},
   "source": [
    "### Modifications of power limits"
   ]
  },
  {
   "cell_type": "markdown",
   "metadata": {},
   "source": [
    "Verify the usage after power capping. Write the function to read power caps and power profile names.\n",
    "\n",
    "In the following files you should read:\n",
    "1. `constraint_{i}_power_limit_uw`\n",
    "2. `constraint_{i}_max_power_uw`\n",
    "3. `constraint_{i}_time_window_us`\n",
    "4. `constraint_{i}_name`\n",
    "\n",
    "**Tip:** your method may be similar to `energy_uj()`<br>\n",
    "**Note:** you can have more than one profiles\n"
   ]
  },
  {
   "cell_type": "code",
   "execution_count": null,
   "metadata": {},
   "outputs": [],
   "source": [
    "def read_power_limit(constraint_num: int):\n",
    "    \"\"\" \n",
    "        Function should print information about given constraint and return power limit.\n",
    "            Name: long_term\n",
    "            Power limit: .. [uw]\n",
    "            Max limit: ... [uw]\n",
    "            Time window: ... [us]\n",
    "    \"\"\"\n",
    "    raise Exception(\"Unimplemented 'read_power_limit'\")\n",
    "    # return power_limit"
   ]
  },
  {
   "cell_type": "markdown",
   "metadata": {},
   "source": [
    "Verify your implementation:"
   ]
  },
  {
   "cell_type": "code",
   "execution_count": null,
   "metadata": {},
   "outputs": [],
   "source": [
    "init_power_limit_0 = read_power_limit(0)\n",
    "init_power_limit_1 = read_power_limit(1)"
   ]
  },
  {
   "cell_type": "markdown",
   "metadata": {},
   "source": [
    "Now change the power limits. Implement the methods below. Note the provided power limits are in µW (microWatts) 1W = 1 000 000 µW "
   ]
  },
  {
   "cell_type": "code",
   "execution_count": null,
   "metadata": {},
   "outputs": [],
   "source": [
    "def change_power_limits_uw(\n",
    "    constraint_num: int,\n",
    "    new_power_val: int,\n",
    "    verbose: bool = False\n",
    "):\n",
    "    \"\"\" \n",
    "        Function should change power limit of given constraint to a given new value.\n",
    "    \"\"\"\n",
    "    raise Exception(\"Unimplemented 'change_power_limits_uw'\")\n",
    "    \n",
    "    if verbose:\n",
    "        print(f\"The constraint_{constraint_num}_power_limit_uw was changed to {new_power_val}\\n\")\n",
    "    return\n",
    "    "
   ]
  },
  {
   "cell_type": "markdown",
   "metadata": {},
   "source": [
    "Verify if the power limit has changed.\n",
    "\n",
    "Be very **careful**!\\\n",
    "Remember old values for changed constraint!\\\n",
    "**Do not decrease** the value too much!"
   ]
  },
  {
   "cell_type": "code",
   "execution_count": null,
   "metadata": {},
   "outputs": [],
   "source": [
    "constraint_num = 1\n",
    "new_power_limit = 50000000\n",
    "\n",
    "\n",
    "print(\"Before changing\")\n",
    "read_power_limit(constraint_num=constraint_num)\n",
    "\n",
    "change_power_limits_uw(constraint_num=constraint_num, new_power_val=new_power_limit, verbose=True)\n",
    "\n",
    "print(\"After changing\")\n",
    "read_power_limit(constraint_num=constraint_num)\n",
    "\n",
    "# Change power limit to initial state\n",
    "change_power_limits_uw(constraint_num=constraint_num, new_power_val=init_power_limit_1, verbose=True)"
   ]
  },
  {
   "cell_type": "markdown",
   "metadata": {},
   "source": [
    "### Powercapping - analysis"
   ]
  },
  {
   "cell_type": "code",
   "execution_count": null,
   "metadata": {},
   "outputs": [],
   "source": [
    "def edp(E, T):\n",
    "    \"\"\" \n",
    "        Calculate EDP (Energy Delay Product) metric \n",
    "    \n",
    "            E: energy consumption depending on power limit [J]\n",
    "            T: execution time depending on power limit [s]\n",
    "    \"\"\"\n",
    "    raise Exception(\"Unimplemented 'edp'\")\n",
    "    # return\n",
    "\n",
    "def draw_power_plot(E, T, P):\n",
    "    \"\"\" \n",
    "        Draw 2 subplots: power(power limits) and EDP(power limits)\n",
    "        \n",
    "            E: energy consumption depending on power limit [J]\n",
    "            T: execution time depending on power limit [s]\n",
    "            P: power limits [W]\n",
    "    \"\"\"\n",
    "\n",
    "    fig, ax = plt.subplots(1,2, figsize=(12, 6))\n",
    "\n",
    "    power = ...\n",
    "    ax[0].scatter(P, power)\n",
    "    ax[0].plot(P, power, '--')\n",
    "    ax[0].set_ylabel(\"Power [W]\")\n",
    "    ax[0].set_xlabel(\"Power limit [W]\")\n",
    "    ax[0].set_title(\"Power usage depending on set power limit\")\n",
    "\n",
    "    edp_vals = ...\n",
    "    ax[1].scatter(P, edp_vals)\n",
    "    ax[1].plot(P, edp_vals, '--')\n",
    "    ax[1].set_ylabel(\"EDP\")\n",
    "    ax[1].set_xlabel(\"Power limit [W]\")\n",
    "    ax[1].set_title(\"EDP depending on set power limit\")\n",
    "\n",
    "    plt.show()\n",
    "\n",
    "def draw_energy_plots(E, T, P):\n",
    "    \"\"\" \n",
    "        Draw plots on 1 graph E(power_limit), T(power_limit)\n",
    "        \n",
    "            E: energy consumption depending on power limit [J]\n",
    "            T: execution time depending on power limit [s]\n",
    "            P: power limits [W]\n",
    "    \"\"\"\n",
    "\n",
    "    fig, ax = plt.subplots()\n",
    "\n",
    "    fig.suptitle(\"Power capping - measurements\")\n",
    "\n",
    "    ax1 = ax.twinx()\n",
    "\n",
    "    ax.scatter(P, E, color='tab:blue')\n",
    "    ax.plot(P,E, '--', color='tab:blue')\n",
    "    ax.set_ylabel(\"Energy [J]\", color='tab:blue')\n",
    "    ax.set_xlabel(\"Power limit [W]\")\n",
    "    ax.tick_params(axis='y', labelcolor='tab:blue')\n",
    "\n",
    "    ax1.scatter(P, T, color='tab:green')\n",
    "    ax1.plot(P,T, '--', color='tab:green')\n",
    "    ax1.set_ylabel(\"Time [s]\", color='tab:green')\n",
    "    ax1.set_xlabel(\"Power limit [W]\")\n",
    "    ax1.tick_params(axis='y', labelcolor='tab:green')\n",
    "\n",
    "    plt.show()"
   ]
  },
  {
   "cell_type": "markdown",
   "metadata": {},
   "source": [
    "## Energy efficiency and power consumption measurements based on matrix multiplication"
   ]
  },
  {
   "cell_type": "markdown",
   "metadata": {},
   "source": [
    "First problem that we are going to measure efficiency is matrix multiplication. In this task we are going to use Numpy library that implements quick matrix multiplication with parallelism.  "
   ]
  },
  {
   "cell_type": "code",
   "execution_count": null,
   "metadata": {},
   "outputs": [],
   "source": [
    "import numpy as np"
   ]
  },
  {
   "cell_type": "code",
   "execution_count": null,
   "metadata": {},
   "outputs": [],
   "source": [
    "def np_test(a, b):\n",
    "    \"\"\" \n",
    "        Create a that measures execution time and consumed energy while executing matrix multiplication.\n",
    "        \n",
    "        Return: execution_time, energy_consumed\n",
    "    \"\"\"\"\n",
    "\n",
    "    raise Exception(\"Unimplemented 'np_test'\")\n",
    "\n",
    "    # return execution_time, energy_consumed"
   ]
  },
  {
   "cell_type": "markdown",
   "metadata": {},
   "source": [
    "Define power limits (at least 5 different) that you're going to set and make tests."
   ]
  },
  {
   "cell_type": "code",
   "execution_count": null,
   "metadata": {},
   "outputs": [],
   "source": [
    "power_limits = ..."
   ]
  },
  {
   "cell_type": "markdown",
   "metadata": {},
   "source": [
    "Run tests and analyse the results."
   ]
  },
  {
   "cell_type": "code",
   "execution_count": null,
   "metadata": {},
   "outputs": [],
   "source": [
    "matrix_size = 10000\n",
    "\n",
    "np.random.seed(42)\n",
    "test_matrices = (np.random.rand(matrix_size, matrix_size), np.random.rand(matrix_size, matrix_size))\n",
    "\n",
    "ex_time = np.zeros((n_power_limits, n_tests))\n",
    "energy = np.zeros((n_power_limits, n_tests))\n",
    "\n",
    "idx = 0\n",
    "for limit in power_limits:\n",
    "    change_power_limits_uw(1, limit)\n",
    "\n",
    "    t, energy_consumed_j = np_test(test_matrices[i][0], test_matrices[i][1])\n",
    "\n",
    "    ex_time[idx][ = t\n",
    "    energy[idx] = energy_consumed_j\n",
    "\n",
    "    idx += 1\n",
    "\n",
    "change_power_limits_uw(1,init_power_limit_1)"
   ]
  },
  {
   "cell_type": "code",
   "execution_count": null,
   "metadata": {},
   "outputs": [],
   "source": [
    "draw_energy_plots(energy, ex_time, power_limits_w)"
   ]
  },
  {
   "cell_type": "code",
   "execution_count": null,
   "metadata": {},
   "outputs": [],
   "source": [
    "draw_power_plot(energy, ex_time, power_limits_w)"
   ]
  },
  {
   "cell_type": "markdown",
   "metadata": {},
   "source": [
    "## Energy efficiency and power consumption measurements based on graph algorithms \n"
   ]
  },
  {
   "cell_type": "markdown",
   "metadata": {},
   "source": [
    "Implement a function that will test energy efficiency of a given bfs and dfs algorithms."
   ]
  },
  {
   "cell_type": "code",
   "execution_count": null,
   "metadata": {},
   "outputs": [],
   "source": [
    "import networkx as nx\n",
    "import numpy as np\n",
    "\n",
    "def test_graph_bfs(graph):\n",
    "    \"\"\" \n",
    "        Create a function that measures execution time and consumed energy while executing BFS on a given graph.\n",
    "        \n",
    "        Return: execution_time, energy_consumed\n",
    "    \"\"\"\"\n",
    "\n",
    "    raise Exception(\"Unimplemented 'test_graph_bfs'\")\n",
    "    # bfs_result = nx.bfs_tree(graph, source=0)\n",
    "    \n",
    "    return execution_time, energy_consumed\n",
    "\n",
    "def test_graph_dfs(graph):\n",
    "    \"\"\" \n",
    "        Create a function that measures execution time and consumed energy while executing DFS on a given graph.\n",
    "        Return: execution_time, energy_consumed\n",
    "    \"\"\"\"\n",
    "    \n",
    "    raise Exception(\"Unimplemented 'test_graph_dfs'\")\n",
    "    # dfs_result = nx.dfs_tree(graph, source=0)\n",
    "\n",
    "    return finish_ts-start_ts, energy_consumed_j"
   ]
  },
  {
   "cell_type": "markdown",
   "metadata": {},
   "source": [
    "Based on the example code find the the used energy during calculation BFS and DFS.\n",
    "\n",
    "Use decreasing power limit (at least 5 different limits). Measure times. What are your thoughts? "
   ]
  },
  {
   "cell_type": "code",
   "execution_count": null,
   "metadata": {},
   "outputs": [],
   "source": [
    "power_limits = ..."
   ]
  },
  {
   "cell_type": "markdown",
   "metadata": {},
   "source": [
    "### BFS measurements"
   ]
  },
  {
   "cell_type": "code",
   "execution_count": null,
   "metadata": {},
   "outputs": [],
   "source": [
    "ex_time = np.zeros((n_power_limits, 1))\n",
    "energy = np.zeros((n_power_limits, 1))\n",
    "\n",
    "G = nx.random_internet_as_graph(int(5e4), seed=42)\n",
    "\n",
    "idx = 0\n",
    "for limit in power_limits:\n",
    "    change_power_limits_uw(1, limit)\n",
    "\n",
    "    t, energy_consumed_j = test_graph_bfs(G)\n",
    "\n",
    "    ex_time[idx] = t\n",
    "    energy[idx] = energy_consumed_j\n",
    "\n",
    "    idx += 1\n",
    "\n",
    "change_power_limits_uw(1,init_power_limit_1)"
   ]
  },
  {
   "cell_type": "code",
   "execution_count": null,
   "metadata": {},
   "outputs": [],
   "source": [
    "draw_energy_plots(energy, ex_time, power_limits_w)"
   ]
  },
  {
   "cell_type": "code",
   "execution_count": null,
   "metadata": {},
   "outputs": [],
   "source": [
    "draw_power_plot(energy, ex_time, power_limits_w)"
   ]
  },
  {
   "cell_type": "markdown",
   "metadata": {},
   "source": [
    "### DFS measurements"
   ]
  },
  {
   "cell_type": "code",
   "execution_count": null,
   "metadata": {},
   "outputs": [],
   "source": [
    "ex_time = np.zeros((n_power_limits, 1))\n",
    "energy = np.zeros((n_power_limits, 1))\n",
    "\n",
    "G = nx.random_internet_as_graph(int(5e4), seed=42)\n",
    "\n",
    "idx = 0\n",
    "for limit in power_limits:\n",
    "    change_power_limits_uw(1, limit)\n",
    "\n",
    "    for i in range(n_tests):\n",
    "\n",
    "        t, energy_consumed_j = test_graph_dfs(G)\n",
    "\n",
    "        ex_time[idx] = t\n",
    "        energy[idx] = energy_consumed_j\n",
    "\n",
    "    idx += 1\n",
    "\n",
    "change_power_limits_uw(1,init_power_limit_1)"
   ]
  },
  {
   "cell_type": "code",
   "execution_count": null,
   "metadata": {},
   "outputs": [],
   "source": [
    "draw_energy_plots(energy, ex_time, power_limits_w)"
   ]
  },
  {
   "cell_type": "code",
   "execution_count": null,
   "metadata": {},
   "outputs": [],
   "source": [
    "draw_power_plot(energy, ex_time, power_limits_w)"
   ]
  }
 ],
 "metadata": {
  "kernelspec": {
   "display_name": "Python 3 (ipykernel)",
   "language": "python",
   "name": "python3"
  },
  "language_info": {
   "codemirror_mode": {
    "name": "ipython",
    "version": 3
   },
   "file_extension": ".py",
   "mimetype": "text/x-python",
   "name": "python",
   "nbconvert_exporter": "python",
   "pygments_lexer": "ipython3",
   "version": "3.9.18"
  }
 },
 "nbformat": 4,
 "nbformat_minor": 4
}
